{
 "cells": [
  {
   "cell_type": "code",
   "execution_count": null,
   "metadata": {},
   "outputs": [],
   "source": [
    "import json\n",
    "import pandas as pd\n",
    "import glob\n",
    "import datetime\n",
    "from datetime import date, timedelta\n",
    "import openpyxl\n",
    "import pathlib\n",
    "import numpy as np\n",
    "from datetime import datetime\n",
    "import os"
   ]
  },
  {
   "cell_type": "code",
   "execution_count": 15,
   "metadata": {},
   "outputs": [],
   "source": [
    "#Lấy all data trong folder\n",
    "def convert_datetime(a):\n",
    "    my_format=\"%Y-%m-%d %H:%M:%S\"\n",
    "    try:    \n",
    "        try:\n",
    "            return datetime.strptime(str(a), \"%Y-%m-%d %H:%M:%S\").strftime(my_format)\n",
    "        except:\n",
    "            return datetime.strptime(str(a), \"%m/%d/%Y %H:%M\").strftime(my_format)\n",
    "    except:\n",
    "        return datetime.strptime(str(a), \"%Y/%m/%d %H:%M:%S\").strftime(my_format)\n",
    "def input_data( data_dir  ):\n",
    "    list_files = []\n",
    "        \n",
    "    for filename in pathlib.Path(data_dir).glob('**/*.csv'):\n",
    "        df = pd.read_csv(filename, dtype={'object_id':object})\n",
    "        df['1_resolve_time'] = df['1_resolve_time'].apply(convert_datetime)\n",
    "        df['1_resolve_time'] = pd.to_datetime(df['1_resolve_time'])\n",
    "        list_files.append(df)\n",
    "\n",
    "    df1 = pd.concat(list_files, ignore_index=True)\n",
    "    return df1"
   ]
  },
  {
   "cell_type": "code",
   "execution_count": 16,
   "metadata": {},
   "outputs": [],
   "source": [
    "#Lấy data (cần đổi source)\n",
    "EUPL_R1_Rawdata = input_data('D:/UPL/EUPL/R1')\n",
    "EUPL_R2_Rawdata = input_data('D:/UPL/EUPL/R2')\n",
    "\n",
    "GUPL_R1_Rawdata = input_data('D:/UPL/GUPL/R1')\n",
    "GUPL_R2_Rawdata = input_data('D:/UPL/GUPL/R2')"
   ]
  },
  {
   "cell_type": "code",
   "execution_count": 17,
   "metadata": {},
   "outputs": [],
   "source": [
    "#Đưa title R2 giống R1 để so sánh điều kiện 2\n",
    "EUPL_R2_Rawdata['title_2'] = EUPL_R2_Rawdata['title'].str.replace(' 2nd-Round','')\n",
    "GUPL_R2_Rawdata['title_2'] = GUPL_R2_Rawdata['title'].str.replace(' 2nd-Round','')"
   ]
  },
  {
   "cell_type": "code",
   "execution_count": 18,
   "metadata": {},
   "outputs": [],
   "source": [
    "#Add thêm colum Result\n",
    "EUPL_R1_Rawdata.loc[EUPL_R1_Rawdata['1_annotation'].isnull(),'1st result']=\"Approve\"\n",
    "EUPL_R1_Rawdata.loc[EUPL_R1_Rawdata['1st result'].isnull(),'1st result']=\"Disapprove\"\n",
    "EUPL_R2_Rawdata.loc[EUPL_R2_Rawdata['1_annotation'].isnull(),'2nd result']=\"Approve\"\n",
    "EUPL_R2_Rawdata.loc[EUPL_R2_Rawdata['2nd result'].isnull(),'2nd result']=\"Disapprove\"\n",
    "\n",
    "GUPL_R1_Rawdata.loc[GUPL_R1_Rawdata['1_annotation'].isnull(),'1st result']=\"Approve\"\n",
    "GUPL_R1_Rawdata.loc[GUPL_R1_Rawdata['1st result'].isnull(),'1st result']=\"Disapprove\"\n",
    "GUPL_R2_Rawdata.loc[GUPL_R2_Rawdata['1_annotation'].isnull(),'2nd result']=\"Approve\"\n",
    "GUPL_R2_Rawdata.loc[GUPL_R2_Rawdata['2nd result'].isnull(),'2nd result']=\"Disapprove\""
   ]
  },
  {
   "cell_type": "code",
   "execution_count": 19,
   "metadata": {},
   "outputs": [],
   "source": [
    "#Merge\n",
    "EUPL_Merge_File = pd.merge(EUPL_R1_Rawdata,EUPL_R2_Rawdata,how = 'inner', on= 'object_id')\n",
    "GUPL_Merge_File = pd.merge(GUPL_R1_Rawdata,GUPL_R2_Rawdata,how = 'inner', on= 'object_id')"
   ]
  },
  {
   "cell_type": "code",
   "execution_count": 20,
   "metadata": {},
   "outputs": [],
   "source": [
    "# Rename Column\n",
    "\n",
    "EUPL_Merge_File.rename(columns = {'title_x':'1st Queue Name',\n",
    "                                  'task_id_x':'1st Task ID',\n",
    "                                  'object_id':'Object ID',\n",
    "                                  '1_verifier_x':'1st Name',\n",
    "                                  '1_resolve_time_x':'1st Date',\n",
    "                                  '1_annotation_x':'1st Rejection Reason',\n",
    "                                  '1_duration_x':'1st AHT',\n",
    "                                  \n",
    "                                  'task_id_y':'2nd Task ID',\n",
    "                                  'title_y':'2nd Queue Name',\n",
    "                                  'project_id_y':'Queue ID',\n",
    "                                  '1_verifier_y':'2nd Name',\n",
    "                                  '1_annotation_y':'2nd Rejection Reason',\n",
    "                                  'tcs_link_y':'TCS Link',\n",
    "                                  '1_resolve_time_y':'2nd Date'\n",
    "                     },inplace=True)\n",
    "\n",
    "GUPL_Merge_File.rename(columns = {'title_x':'1st Queue Name',\n",
    "                                  'task_id_x':'1st Task ID',\n",
    "                                  'object_id':'Object ID',\n",
    "                                  '1_verifier_x':'1st Name',\n",
    "                                  '1_resolve_time_x':'1st Date',\n",
    "                                  '1_annotation_x':'1st Rejection Reason',\n",
    "                                  '1_duration_x':'1st AHT',\n",
    "                                  \n",
    "                                  'task_id_y':'2nd Task ID',\n",
    "                                  'title_y':'2nd Queue Name',\n",
    "                                  'project_id_y':'Queue ID',\n",
    "                                  '1_verifier_y':'2nd Name',\n",
    "                                  '1_annotation_y':'2nd Rejection Reason',\n",
    "                                  'tcs_link_y':'TCS Link',\n",
    "                                  '1_resolve_time_y':'2nd Date'\n",
    "                     },inplace=True)"
   ]
  },
  {
   "cell_type": "code",
   "execution_count": 21,
   "metadata": {},
   "outputs": [],
   "source": [
    "EUPL_Merge_File[['Queue ID','Object ID','1st Task ID','2nd Task ID']] = EUPL_Merge_File[['Queue ID','Object ID','1st Task ID','2nd Task ID']].replace(to_replace=r'id=',value= '',regex=True).astype(str)\n",
    "GUPL_Merge_File[['Queue ID','Object ID','1st Task ID','2nd Task ID']] = GUPL_Merge_File[['Queue ID','Object ID','1st Task ID','2nd Task ID']].replace(to_replace=r'id=',value= '',regex=True).astype(str)"
   ]
  },
  {
   "cell_type": "code",
   "execution_count": 22,
   "metadata": {},
   "outputs": [],
   "source": [
    "EUPL_Merge_File.loc[EUPL_Merge_File['1st Date'] < EUPL_Merge_File['2nd Date'],\"Check time\"]=\"Yes\"\n",
    "GUPL_Merge_File.loc[GUPL_Merge_File['1st Date'] < GUPL_Merge_File['2nd Date'],\"Check time\"]=\"Yes\"\n",
    "\n",
    "EUPL_Merge_File.loc[EUPL_Merge_File['title_2'] == EUPL_Merge_File['1st Queue Name'],\"Check queue\"]=\"Yes\"\n",
    "GUPL_Merge_File.loc[GUPL_Merge_File['title_2'] == GUPL_Merge_File['1st Queue Name'],\"Check queue\"]=\"Yes\""
   ]
  },
  {
   "cell_type": "code",
   "execution_count": 23,
   "metadata": {},
   "outputs": [
    {
     "data": {
      "text/plain": [
       "2nd Queue Name\n",
       "[VN] Product Sample Evaluate 2nd-Round         13456\n",
       "[VN] merge video Sampling Evaluat 2nd-Round     3777\n",
       "[VN]livestream Sampling Evaluate 2nd-Round      3452\n",
       "[VN] CB Product Sample Evaluation 2nd-Round      316\n",
       "Name: count, dtype: int64"
      ]
     },
     "execution_count": 23,
     "metadata": {},
     "output_type": "execute_result"
    }
   ],
   "source": [
    "#Filter các giá trị thỏa mãn cả 2 điều kiện trên\n",
    "EUPL_Merge_File = EUPL_Merge_File[EUPL_Merge_File['Check time']==\"Yes\"]\n",
    "EUPL_Merge_File = EUPL_Merge_File[EUPL_Merge_File['Check queue']==\"Yes\"]\n",
    "\n",
    "#Sắp xếp và lấy những column cần thiết\n",
    "EUPL_Merge_File = EUPL_Merge_File[['2nd Queue Name','Queue ID','Object ID','1st Name','1st Date','1st Task ID','1st result','1st Rejection Reason','1st AHT','2nd Name','2nd Date','2nd Task ID','TCS Link','2nd result','2nd Rejection Reason']]\n",
    "GUPL_Merge_File['2nd Queue Name'].value_counts() #2check data với TCS output\n",
    "\n",
    "# # Lọc các giá trị trong khoảng thời gian từ '2023-06-26' đến '2023-07-02' trên cột '2nd Date'\n",
    "# EUPL_Merge_File_filtered = EUPL_Merge_File.loc[(EUPL_Merge_File['2nd Date'] >= '2023-06-26') & (EUPL_Merge_File['2nd Date'] <= '2023-07-02')]\n",
    "# EUPL_Merge_File_filtered"
   ]
  },
  {
   "cell_type": "code",
   "execution_count": 24,
   "metadata": {},
   "outputs": [
    {
     "data": {
      "text/plain": [
       "2nd Queue Name\n",
       "[VN] Product Sample Evaluate 2nd-Round         10931\n",
       "[VN]livestream Sampling Evaluate 2nd-Round      3452\n",
       "[VN] merge video Sampling Evaluat 2nd-Round     3421\n",
       "[VN] CB Product Sample Evaluation 2nd-Round      227\n",
       "Name: count, dtype: int64"
      ]
     },
     "execution_count": 24,
     "metadata": {},
     "output_type": "execute_result"
    }
   ],
   "source": [
    "#Filter các giá trị thỏa mãn cả 2 điều kiện trên\n",
    "GUPL_Merge_File = GUPL_Merge_File[ GUPL_Merge_File['Check time']==\"Yes\"]\n",
    "GUPL_Merge_File = GUPL_Merge_File[GUPL_Merge_File['Check queue']==\"Yes\"]\n",
    "\n",
    "#Sắp xếp và lấy những column cần thiết\n",
    "GUPL_Merge_File = GUPL_Merge_File[['2nd Queue Name','Queue ID','Object ID','1st Name','1st Date','1st Task ID','1st result','1st Rejection Reason','1st AHT','2nd Name','2nd Date','2nd Task ID','TCS Link','2nd result','2nd Rejection Reason']]\n",
    "GUPL_Merge_File['2nd Queue Name'].value_counts() #2check data với TCS output"
   ]
  },
  {
   "cell_type": "code",
   "execution_count": 25,
   "metadata": {},
   "outputs": [],
   "source": [
    "#filter time E-UPL\n",
    "EUPL_Merge_File['Mod_Week'] = EUPL_Merge_File['1st Date'].apply(lambda x: x.isocalendar()[1])\n",
    "EUPL_Merge_File['QA_Week'] = EUPL_Merge_File['2nd Date'].apply(lambda x: x.isocalendar()[1])\n",
    "EUPL_Merge_File.loc[EUPL_Merge_File['Mod_Week'] == EUPL_Merge_File['QA_Week'],\"Check week\"]=\"Yes\"\n",
    "EUPL_Merge_File = EUPL_Merge_File[EUPL_Merge_File['Check week']==\"Yes\"]\n",
    "\n",
    "abc =\"_\"\n",
    "def filter_time( df,  from_date, to_date):\n",
    "\n",
    "    UPL_rawdata = df[(df['2nd Date'].dt.strftime('%Y-%m-%d') >= from_date) & (df['2nd Date'].dt.strftime('%Y-%m-%d') <= to_date) ]\n",
    "    UPL_rawdata = UPL_rawdata[['2nd Queue Name','Queue ID','Object ID','1st Name','1st Date','1st Task ID','1st result','1st Rejection Reason','1st AHT','2nd Name','2nd Date','2nd Task ID','TCS Link','2nd result','2nd Rejection Reason']]   \n",
    "    UPL_rawdata.to_excel(f\"C:/Users/v6210227/Desktop/E-UPL {from_date}{abc}{to_date}.xlsx\", index=False)\n",
    "\n",
    "    return UPL_rawdata\n",
    "\n",
    "EUPL_Merged = filter_time(EUPL_Merge_File, '2023-07-24','2023-07-30')\n",
    "#Nhập lại ngày tháng muốn export data"
   ]
  },
  {
   "cell_type": "code",
   "execution_count": 26,
   "metadata": {},
   "outputs": [],
   "source": [
    "#filter time G-UPL\n",
    "GUPL_Merge_File['Mod_Week'] = GUPL_Merge_File['1st Date'].apply(lambda x: x.isocalendar()[1])\n",
    "GUPL_Merge_File['QA_Week'] = GUPL_Merge_File['2nd Date'].apply(lambda x: x.isocalendar()[1])\n",
    "GUPL_Merge_File.loc[GUPL_Merge_File['Mod_Week'] == GUPL_Merge_File['QA_Week'],\"Check week\"]=\"Yes\"\n",
    "GUPL_Merge_File = GUPL_Merge_File[GUPL_Merge_File['Check week']==\"Yes\"]\n",
    "\n",
    "abc =\"_\"\n",
    "def filter_time( df,  from_date, to_date):\n",
    "\n",
    "    UPL_rawdata = df[(df['2nd Date'].dt.strftime('%Y-%m-%d') >= from_date) & (df['2nd Date'].dt.strftime('%Y-%m-%d') <= to_date) ]\n",
    "    UPL_rawdata = UPL_rawdata[['2nd Queue Name','Queue ID','Object ID','1st Name','1st Date','1st Task ID','1st result','1st Rejection Reason','1st AHT','2nd Name','2nd Date','2nd Task ID','TCS Link','2nd result','2nd Rejection Reason']]\n",
    "    UPL_rawdata.to_excel(f\"C:/Users/v6210227/Desktop/G-UPL {from_date}{abc}{to_date}.xlsx\", index=False)\n",
    "\n",
    "    return UPL_rawdata\n",
    "\n",
    "GUPL_Merged = filter_time(GUPL_Merge_File, '2023-07-24','2023-07-30')\n",
    "#Nhập lại ngày tháng muốn export data"
   ]
  }
 ],
 "metadata": {
  "kernelspec": {
   "display_name": "Python 3",
   "language": "python",
   "name": "python3"
  },
  "language_info": {
   "codemirror_mode": {
    "name": "ipython",
    "version": 3
   },
   "file_extension": ".py",
   "mimetype": "text/x-python",
   "name": "python",
   "nbconvert_exporter": "python",
   "pygments_lexer": "ipython3",
   "version": "3.11.4"
  },
  "orig_nbformat": 4
 },
 "nbformat": 4,
 "nbformat_minor": 2
}
