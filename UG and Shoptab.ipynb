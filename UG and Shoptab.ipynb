{
 "cells": [
  {
   "cell_type": "code",
   "execution_count": 90,
   "metadata": {},
   "outputs": [],
   "source": [
    "import json\n",
    "import pandas as pd\n",
    "import glob\n",
    "import datetime\n",
    "from datetime import date, timedelta\n",
    "import openpyxl\n",
    "import pathlib\n",
    "import numpy as np\n",
    "from datetime import datetime\n",
    "import re\n",
    "import joblib\n",
    "import csv\n",
    "import os\n",
    "import codecs"
   ]
  },
  {
   "cell_type": "code",
   "execution_count": 91,
   "metadata": {},
   "outputs": [],
   "source": [
    "def rename_csv_files(folder_path, title_column, resolve_time_column, sheet_name=None):\n",
    "    files = os.listdir(folder_path)\n",
    "    \n",
    "    for file in files:\n",
    "         if file.endswith(\".csv\") and \"Shoptab\" not in file and \"TTS-vi-VN\" not in file:\n",
    "            file_path = os.path.join(folder_path, file)\n",
    "            if sheet_name is None:\n",
    "                df = pd.read_csv(file_path)\n",
    "            else:\n",
    "                df = pd.read_csv(file_path, sheet_name=sheet_name)\n",
    "                \n",
    "            first_title = df[title_column][0]\n",
    "            \n",
    "            df[resolve_time_column] = pd.to_datetime(df[resolve_time_column])\n",
    "            \n",
    "            start_date = df[resolve_time_column].min()\n",
    "            end_date = df[resolve_time_column].max()\n",
    "            \n",
    "            first_title = re.sub(r'[\\\\/:\"*?<>|]+', '', first_title)\n",
    "            \n",
    "            start_date_str = start_date.strftime(\"%Y-%m-%d\")\n",
    "            end_date_str = end_date.strftime(\"%Y-%m-%d\")\n",
    "            \n",
    "            new_file_name = f\"{first_title}_{start_date_str}_{end_date_str}.csv\"\n",
    "            new_file_path = os.path.join(folder_path, new_file_name)\n",
    "            \n",
    "            if os.path.exists(new_file_path):\n",
    "                os.remove(new_file_path)\n",
    "            \n",
    "            os.rename(file_path, new_file_path)\n",
    "\n",
    "dir_shoptab = 'D:/Data clean/Shoptab'\n",
    "dir_UG_ads = 'D:/Data clean/UG 2R GnE'\n",
    "try:\n",
    "    rename_csv_files(dir_shoptab, 'title', '1_resolve_time')\n",
    "    rename_csv_files(dir_UG_ads, 'title', '1_resolve_time')\n",
    "except: \n",
    "    pass"
   ]
  },
  {
   "cell_type": "code",
   "execution_count": 92,
   "metadata": {},
   "outputs": [],
   "source": [
    "#Supporting Dashboard\n",
    "\n",
    "#Variable\n",
    "from datetime import datetime\n",
    "Date_variable = joblib.load('D:/Code/Joblib_Temp/date_df.pkl')\n",
    "\n",
    "Start_Date_Shoptab = datetime.strptime(str(Date_variable.loc['sideprj_shoptab', 'Start date']), '%Y-%m-%d').strftime('%Y-%m-%d')\n",
    "End_Date_Shoptab = datetime.strptime(str(Date_variable.loc['sideprj_shoptab', 'End date']), '%Y-%m-%d').strftime('%Y-%m-%d')\n",
    "\n",
    "Start_Date_UGADs = datetime.strptime(str(Date_variable.loc['sideprj_shoptab', 'Start date']), '%Y-%m-%d').strftime('%Y-%m-%d')\n",
    "End_Date_UGADs = datetime.strptime(str(Date_variable.loc['sideprj_shoptab', 'Start date']), '%Y-%m-%d').strftime('%Y-%m-%d')\n",
    "\n",
    "Start_Date_sideproject = datetime.strptime(str(Date_variable.loc['sideprj_dailyreport', 'Start date']), '%Y-%m-%d').strftime('%Y-%m-%d')\n",
    "End_Date_sideproject = datetime.strptime(str(Date_variable.loc['sideprj_dailyreport', 'End date']), '%Y-%m-%d').strftime('%Y-%m-%d')\n",
    "\n",
    "#Queue\n",
    "queue_list = pd.read_excel('D:/Code/Code/Support_dashboard.xlsx',sheet_name='Queue List').values\n",
    "queue_list = pd.DataFrame(queue_list)\n",
    "headers = ['BUSINESS','COMPOUND','CATEGORY','MOD QUEUE ID','MOD QUEUE NAME',\n",
    "           'QA QUEUE ID','QA QUEUE NAME','QUEUE GROUP','STATUS','Priority','Latency','AHT (secs)','Policy_type','Classify']\n",
    "queue_list.columns = headers"
   ]
  },
  {
   "cell_type": "code",
   "execution_count": 93,
   "metadata": {},
   "outputs": [
    {
     "data": {
      "text/html": [
       "<div>\n",
       "<style scoped>\n",
       "    .dataframe tbody tr th:only-of-type {\n",
       "        vertical-align: middle;\n",
       "    }\n",
       "\n",
       "    .dataframe tbody tr th {\n",
       "        vertical-align: top;\n",
       "    }\n",
       "\n",
       "    .dataframe thead th {\n",
       "        text-align: right;\n",
       "    }\n",
       "</style>\n",
       "<table border=\"1\" class=\"dataframe\">\n",
       "  <thead>\n",
       "    <tr style=\"text-align: right;\">\n",
       "      <th></th>\n",
       "      <th>Start date</th>\n",
       "      <th>End date</th>\n",
       "    </tr>\n",
       "  </thead>\n",
       "  <tbody>\n",
       "    <tr>\n",
       "      <th>appeal_diff_case</th>\n",
       "      <td>2023-08-13</td>\n",
       "      <td>2023-08-13</td>\n",
       "    </tr>\n",
       "    <tr>\n",
       "      <th>appeal_dailyreport</th>\n",
       "      <td>2023-08-12</td>\n",
       "      <td>2023-08-12</td>\n",
       "    </tr>\n",
       "    <tr>\n",
       "      <th>regular_diff_case</th>\n",
       "      <td>2023-08-08</td>\n",
       "      <td>2023-08-13</td>\n",
       "    </tr>\n",
       "    <tr>\n",
       "      <th>regular_false_case</th>\n",
       "      <td>2023-08-12</td>\n",
       "      <td>2023-08-12</td>\n",
       "    </tr>\n",
       "    <tr>\n",
       "      <th>rock_dailyreport</th>\n",
       "      <td>2023-08-12</td>\n",
       "      <td>2023-08-12</td>\n",
       "    </tr>\n",
       "    <tr>\n",
       "      <th>PCR_diff_case</th>\n",
       "      <td>2023-08-08</td>\n",
       "      <td>2023-08-13</td>\n",
       "    </tr>\n",
       "    <tr>\n",
       "      <th>PCR_false_case</th>\n",
       "      <td>2023-08-12</td>\n",
       "      <td>2023-08-12</td>\n",
       "    </tr>\n",
       "    <tr>\n",
       "      <th>sideprj_shoptab</th>\n",
       "      <td>2023-08-13</td>\n",
       "      <td>2023-08-13</td>\n",
       "    </tr>\n",
       "    <tr>\n",
       "      <th>sideprj_ugads</th>\n",
       "      <td>2023-08-13</td>\n",
       "      <td>2023-08-13</td>\n",
       "    </tr>\n",
       "    <tr>\n",
       "      <th>sideprj_dailyreport</th>\n",
       "      <td>2023-08-12</td>\n",
       "      <td>2023-08-12</td>\n",
       "    </tr>\n",
       "  </tbody>\n",
       "</table>\n",
       "</div>"
      ],
      "text/plain": [
       "                     Start date    End date\n",
       "appeal_diff_case     2023-08-13  2023-08-13\n",
       "appeal_dailyreport   2023-08-12  2023-08-12\n",
       "regular_diff_case    2023-08-08  2023-08-13\n",
       "regular_false_case   2023-08-12  2023-08-12\n",
       "rock_dailyreport     2023-08-12  2023-08-12\n",
       "PCR_diff_case        2023-08-08  2023-08-13\n",
       "PCR_false_case       2023-08-12  2023-08-12\n",
       "sideprj_shoptab      2023-08-13  2023-08-13\n",
       "sideprj_ugads        2023-08-13  2023-08-13\n",
       "sideprj_dailyreport  2023-08-12  2023-08-12"
      ]
     },
     "execution_count": 93,
     "metadata": {},
     "output_type": "execute_result"
    }
   ],
   "source": [
    "Date_variable"
   ]
  },
  {
   "cell_type": "code",
   "execution_count": 94,
   "metadata": {},
   "outputs": [],
   "source": [
    "#Lấy all data trong folder\n",
    "def convert_datetime(a):\n",
    "    my_format=\"%Y-%m-%d %H:%M:%S\"\n",
    "    try:    \n",
    "        try:\n",
    "            return datetime.strptime(str(a), \"%Y-%m-%d %H:%M:%S\").strftime(my_format)\n",
    "        except:\n",
    "            return datetime.strptime(str(a), \"%m/%d/%Y %H:%M\").strftime(my_format)\n",
    "    except:\n",
    "        return datetime.strptime(str(a), \"%Y/%m/%d %H:%M:%S\").strftime(my_format)\n",
    "def convert_date(a):\n",
    "    my_format=\"%Y-%m-%d\"\n",
    "    try:\n",
    "        return datetime.strptime(str(a), \"%Y-%m-%d %H:%M:%S\").strftime(my_format)\n",
    "    except:\n",
    "        return datetime.strptime(str(a), \"%m/%d/%Y %H:%M\").strftime(my_format)\n",
    "def input_data( data_dir  ):\n",
    "    list_files = []\n",
    "        \n",
    "    for filename in pathlib.Path(data_dir).glob('**/*.csv'):\n",
    "        df = pd.read_csv(filename, dtype={'object_id':object,\n",
    "                                          'task_id':object,\n",
    "                                          'project_id':object})\n",
    "        df['1_resolve_time'] = df['1_resolve_time'].apply(convert_datetime)\n",
    "        df['1_resolve_time'] = pd.to_datetime(df['1_resolve_time'])\n",
    "        df['1_verifier'] = df['1_verifier'].apply(lambda x: re.sub(r'robot_estimate@', '', x))\n",
    "        list_files.append(df)\n",
    "\n",
    "    df1 = pd.concat(list_files, ignore_index=True)\n",
    "    return df1"
   ]
  },
  {
   "cell_type": "code",
   "execution_count": 95,
   "metadata": {},
   "outputs": [],
   "source": [
    "#Lấy data (cần đổi source)\n",
    "Shoptab_queue = input_data('D:/Data clean/Shoptab')\n",
    "UG_ADs_queue = input_data('D:/Data clean/UG 2R GnE')\n"
   ]
  },
  {
   "cell_type": "code",
   "execution_count": 96,
   "metadata": {},
   "outputs": [
    {
     "data": {
      "text/plain": [
       "'{\"real_assign_time\":1690613024.387,\"real_resolve_time\":1690613086.506,\"mainForm\":[{\"name\":\"rejectReasons\",\"value\":\"pass\"},{\"name\":\"Label Code\",\"value\":null},{\"name\":\"Label Type\",\"value\":null},{\"name\":\"Audit Result\",\"value\":\"Approval\"},{\"name\":\"standard_output\",\"value\":{\"result\":200}}],\"aht_duration\":0,\"extra_info\":{\"video_duration\":0,\"key_frame_count\":0,\"contain_private_video\":null}}\\n'"
      ]
     },
     "execution_count": 96,
     "metadata": {},
     "output_type": "execute_result"
    }
   ],
   "source": [
    "Shoptab_queue['2_verify_data'][2]"
   ]
  },
  {
   "cell_type": "code",
   "execution_count": 97,
   "metadata": {},
   "outputs": [],
   "source": [
    "keymap = {\n",
    "    'Not approve': ['400', 'notapproval', 'disapproval', 'disapproved', 'violation'],\n",
    "    'Approve': ['200', 'approval', 'approved', 'general'],\n",
    "}\n",
    "\n",
    "def check_string(s):\n",
    "    if isinstance(s, str):\n",
    "        s_lower = s.lower()\n",
    "\n",
    "        for approval_status, substrings in keymap.items():\n",
    "            if any(substring in s_lower for substring in substrings):\n",
    "                return approval_status.capitalize()\n",
    "\n",
    "    return s\n",
    "\n",
    "Shoptab_queue['1st_result'] = Shoptab_queue['1_audit_result'].apply(check_string)\n",
    "Shoptab_queue['2nd_result'] = Shoptab_queue['2_audit_result'].apply(check_string)\n",
    "\n",
    "UG_ADs_queue['1st_result'] = UG_ADs_queue['1_verify_data'].apply(check_string)\n",
    "UG_ADs_queue['2nd_result'] = UG_ADs_queue['2_verify_data'].apply(check_string)"
   ]
  },
  {
   "cell_type": "code",
   "execution_count": 98,
   "metadata": {},
   "outputs": [
    {
     "data": {
      "text/plain": [
       "'Approve'"
      ]
     },
     "execution_count": 98,
     "metadata": {},
     "output_type": "execute_result"
    }
   ],
   "source": [
    "Shoptab_queue['1st_result'][2]"
   ]
  },
  {
   "cell_type": "code",
   "execution_count": 99,
   "metadata": {},
   "outputs": [],
   "source": [
    "#Add diff case\n",
    "Shoptab_queue.loc[Shoptab_queue['1st_result'] != Shoptab_queue['2nd_result'],'Diff case']=\"FALSE\"\n",
    "Shoptab_queue.loc[Shoptab_queue['Diff case'].isnull(),'Diff case']=\"TRUE\"\n",
    "\n",
    "UG_ADs_queue.loc[UG_ADs_queue['1st_result'] != UG_ADs_queue['2nd_result'],'Diff case']=\"FALSE\"\n",
    "UG_ADs_queue.loc[UG_ADs_queue['Diff case'].isnull(),'Diff case']=\"TRUE\""
   ]
  },
  {
   "cell_type": "code",
   "execution_count": 100,
   "metadata": {},
   "outputs": [],
   "source": [
    "Shoptab_queue[['task_id', 'project_id','object_id']] = Shoptab_queue[['task_id', 'project_id','object_id']].replace(to_replace=r'id=',value= '',regex=True).astype(str)\n",
    "UG_ADs_queue[['task_id', 'project_id','object_id']] = UG_ADs_queue[['task_id', 'project_id','object_id']].replace(to_replace=r'id=',value= '',regex=True).astype(str)"
   ]
  },
  {
   "cell_type": "code",
   "execution_count": 101,
   "metadata": {},
   "outputs": [],
   "source": [
    "Shoptab_queue['2_resolve_time'] = pd.to_datetime(Shoptab_queue['2_resolve_time'])\n",
    "UG_ADs_queue['2_resolve_time'] = pd.to_datetime(UG_ADs_queue['2_resolve_time'])\n",
    "\n",
    "Shoptab_queue['1_resolve_time'] = pd.to_datetime(Shoptab_queue['1_resolve_time'])\n",
    "UG_ADs_queue['1_resolve_time'] = pd.to_datetime(UG_ADs_queue['1_resolve_time'])\n",
    "\n",
    "Shoptab_queue = Shoptab_queue.rename(columns={'1_label_code':'1_reason',\n",
    "                                              '2_label_code':'2_reason'})"
   ]
  },
  {
   "cell_type": "code",
   "execution_count": 102,
   "metadata": {},
   "outputs": [],
   "source": [
    "def filter_time( df,  from_date, to_date):\n",
    "    Shoptab_queue_filter = Shoptab_queue[(df['2_resolve_time'].dt.strftime('%Y-%m-%d') >= from_date) & (Shoptab_queue['2_resolve_time'].dt.strftime('%Y-%m-%d') <= to_date)]\n",
    "    Shoptab_queue_filter = Shoptab_queue_filter[['title','project_id','1_verifier','1_resolve_time','object_id','1st_result','1_reason','1_duration','2_verifier','2_resolve_time','task_id','tcs_link','2nd_result','2_reason','Diff case']]\n",
    "    Shoptab_queue_filter = Shoptab_queue_filter.drop_duplicates(subset='task_id', keep='first')\n",
    "    Shoptab_queue_filter = pd.DataFrame(Shoptab_queue_filter)\n",
    "    return Shoptab_queue_filter\n",
    "\n",
    "final_Shoptab = filter_time(Shoptab_queue, Start_Date_Shoptab,End_Date_Shoptab)"
   ]
  },
  {
   "cell_type": "code",
   "execution_count": 103,
   "metadata": {},
   "outputs": [],
   "source": [
    "def filter_time( df,  from_date, to_date):\n",
    "    UG_ADs_queue_filter = UG_ADs_queue[(df['2_resolve_time'].dt.strftime('%Y-%m-%d') >= from_date) & (UG_ADs_queue['2_resolve_time'].dt.strftime('%Y-%m-%d') <= to_date)]\n",
    "    UG_ADs_queue_filter = UG_ADs_queue_filter[['title','project_id','1_verifier','1_resolve_time','object_id','1st_result','1_reason','1_duration','2_verifier','2_resolve_time','task_id','tcs_link','2nd_result','2_reason','Diff case']]\n",
    "    UG_ADs_queue_filter = UG_ADs_queue_filter.drop_duplicates(subset='task_id', keep='first')\n",
    "    UG_ADs_queue_filter = pd.DataFrame(UG_ADs_queue_filter)\n",
    "    return UG_ADs_queue_filter\n",
    "\n",
    "final_UG_ADs = filter_time(UG_ADs_queue, Start_Date_UGADs,End_Date_UGADs)"
   ]
  },
  {
   "cell_type": "code",
   "execution_count": 104,
   "metadata": {},
   "outputs": [
    {
     "data": {
      "text/html": [
       "<div>\n",
       "<style scoped>\n",
       "    .dataframe tbody tr th:only-of-type {\n",
       "        vertical-align: middle;\n",
       "    }\n",
       "\n",
       "    .dataframe tbody tr th {\n",
       "        vertical-align: top;\n",
       "    }\n",
       "\n",
       "    .dataframe thead th {\n",
       "        text-align: right;\n",
       "    }\n",
       "</style>\n",
       "<table border=\"1\" class=\"dataframe\">\n",
       "  <thead>\n",
       "    <tr style=\"text-align: right;\">\n",
       "      <th></th>\n",
       "      <th>task_id</th>\n",
       "      <th>project_id</th>\n",
       "      <th>title</th>\n",
       "      <th>object_id</th>\n",
       "      <th>status</th>\n",
       "      <th>create_time</th>\n",
       "      <th>closed_time</th>\n",
       "      <th>audit_status</th>\n",
       "      <th>1_verifier</th>\n",
       "      <th>1_assign_time</th>\n",
       "      <th>...</th>\n",
       "      <th>directly_submit_label_type</th>\n",
       "      <th>directly_submit_rejectReasons</th>\n",
       "      <th>directly_submit_standard_output</th>\n",
       "      <th>1st_result</th>\n",
       "      <th>2nd_result</th>\n",
       "      <th>Diff case</th>\n",
       "      <th>1_rate</th>\n",
       "      <th>1_tcs_audit_status</th>\n",
       "      <th>2_rate</th>\n",
       "      <th>2_tcs_audit_status</th>\n",
       "    </tr>\n",
       "  </thead>\n",
       "  <tbody>\n",
       "    <tr>\n",
       "      <th>0</th>\n",
       "      <td>7261005744772792838</td>\n",
       "      <td>7260106686818451970</td>\n",
       "      <td>QA [CB][VN]-Shoptab Product Image Dedicated</td>\n",
       "      <td>tos-maliva-i-o3syd03w52-us/138e1e8a1977433d8db...</td>\n",
       "      <td>Closed</td>\n",
       "      <td>2023-07-29 05:50:41</td>\n",
       "      <td>2023-07-29 13:44:47</td>\n",
       "      <td>none</td>\n",
       "      <td>duong.tla@trans-cosmos.com.vn</td>\n",
       "      <td>2023-07-29 05:50:41</td>\n",
       "      <td>...</td>\n",
       "      <td>NaN</td>\n",
       "      <td>NaN</td>\n",
       "      <td>NaN</td>\n",
       "      <td>Approve</td>\n",
       "      <td>Approve</td>\n",
       "      <td>TRUE</td>\n",
       "      <td>NaN</td>\n",
       "      <td>NaN</td>\n",
       "      <td>NaN</td>\n",
       "      <td>NaN</td>\n",
       "    </tr>\n",
       "  </tbody>\n",
       "</table>\n",
       "<p>1 rows × 48 columns</p>\n",
       "</div>"
      ],
      "text/plain": [
       "               task_id           project_id  \\\n",
       "0  7261005744772792838  7260106686818451970   \n",
       "\n",
       "                                         title  \\\n",
       "0  QA [CB][VN]-Shoptab Product Image Dedicated   \n",
       "\n",
       "                                           object_id  status  \\\n",
       "0  tos-maliva-i-o3syd03w52-us/138e1e8a1977433d8db...  Closed   \n",
       "\n",
       "           create_time          closed_time audit_status  \\\n",
       "0  2023-07-29 05:50:41  2023-07-29 13:44:47         none   \n",
       "\n",
       "                      1_verifier        1_assign_time  ...  \\\n",
       "0  duong.tla@trans-cosmos.com.vn  2023-07-29 05:50:41  ...   \n",
       "\n",
       "  directly_submit_label_type  directly_submit_rejectReasons  \\\n",
       "0                        NaN                            NaN   \n",
       "\n",
       "  directly_submit_standard_output 1st_result 2nd_result Diff case 1_rate  \\\n",
       "0                             NaN    Approve    Approve      TRUE    NaN   \n",
       "\n",
       "  1_tcs_audit_status 2_rate 2_tcs_audit_status  \n",
       "0                NaN    NaN                NaN  \n",
       "\n",
       "[1 rows x 48 columns]"
      ]
     },
     "execution_count": 104,
     "metadata": {},
     "output_type": "execute_result"
    }
   ],
   "source": [
    "side_project_append = pd.concat([Shoptab_queue, UG_ADs_queue], axis=0, ignore_index=True)\n",
    "side_project_append.head(1)"
   ]
  },
  {
   "cell_type": "code",
   "execution_count": 105,
   "metadata": {},
   "outputs": [],
   "source": [
    "def filter_time( df,  from_date, to_date):\n",
    "    side_project_diff_temp = side_project_append[(df['1_resolve_time'].dt.strftime('%Y-%m-%d') >= from_date) & (side_project_append['1_resolve_time'].dt.strftime('%Y-%m-%d') <= to_date)]\n",
    "    side_project_diff_temp = side_project_diff_temp[['title','project_id','1_verifier','1_resolve_time','object_id','1st_result','1_reason','1_duration','2_verifier','2_resolve_time','task_id','tcs_link','2nd_result','2_reason','Diff case']]\n",
    "    side_project_diff_temp = pd.DataFrame(side_project_diff_temp)\n",
    "    side_project_diff_temp[['1_reason','2_reason']] = side_project_diff_temp[['1_reason','2_reason']].replace(to_replace='null',value= '',regex=True).astype(str)\n",
    "\n",
    "    return side_project_diff_temp\n",
    "\n",
    "side_project_diff_case = filter_time(side_project_append, Start_Date_Shoptab, End_Date_Shoptab)\n"
   ]
  },
  {
   "cell_type": "code",
   "execution_count": 106,
   "metadata": {},
   "outputs": [
    {
     "data": {
      "text/plain": [
       "Index(['task_id', 'project_id', 'title', 'object_id', 'status', 'create_time',\n",
       "       'closed_time', 'audit_status', '1_verifier', '1_assign_time',\n",
       "       '1_resolve_time', '1_duration', '1_verify_data', '1_audit_result',\n",
       "       '1_reason', '1_label_type', '1_rejectReasons', '1_standard_output',\n",
       "       '2_verifier', '2_assign_time', '2_resolve_time', '2_duration',\n",
       "       '2_verify_data', '2_audit_result', '2_reason', '2_label_type',\n",
       "       '2_rejectReasons', '2_standard_output', 'tcs_link', 'is_simulation',\n",
       "       'Diff', 'directly_submit_verifier', 'directly_submit_assign_time',\n",
       "       'directly_submit_resolve_time', 'directly_submit_duration',\n",
       "       'directly_submit_verify_data', 'directly_submit_audit_result',\n",
       "       'directly_submit_label_code', 'directly_submit_label_type',\n",
       "       'directly_submit_rejectReasons', 'directly_submit_standard_output',\n",
       "       '1st_result', '2nd_result', 'Diff case', '1_rate', '1_tcs_audit_status',\n",
       "       '2_rate', '2_tcs_audit_status'],\n",
       "      dtype='object')"
      ]
     },
     "execution_count": 106,
     "metadata": {},
     "output_type": "execute_result"
    }
   ],
   "source": [
    "side_project_append.columns"
   ]
  },
  {
   "cell_type": "code",
   "execution_count": 107,
   "metadata": {},
   "outputs": [],
   "source": [
    "def filter_time( df,  from_date, to_date):\n",
    "    side_project_temp = side_project_append[(df['1_resolve_time'].dt.strftime('%Y-%m-%d') >= from_date) & (side_project_append['1_resolve_time'].dt.strftime('%Y-%m-%d') <= to_date)]\n",
    "    side_project_temp = side_project_temp[['title','project_id','1_verifier','1_resolve_time','object_id','1st_result','1_reason','1_duration','2_verifier','2_resolve_time','task_id','tcs_link','2nd_result','2_reason','Diff case']]\n",
    "    side_project_temp = pd.DataFrame(side_project_temp)\n",
    "    side_project_temp = side_project_temp.drop_duplicates(subset='task_id', keep='first')\n",
    "\n",
    "    return side_project_temp\n",
    "\n",
    "side_project_temp = filter_time(side_project_append, Start_Date_sideproject, End_Date_sideproject)\n",
    "\n",
    "side_project_temp['1_resolve_time'] = pd.to_datetime(side_project_temp['1_resolve_time'].apply(convert_date))"
   ]
  },
  {
   "cell_type": "code",
   "execution_count": 108,
   "metadata": {},
   "outputs": [],
   "source": [
    "#Sample size - side project\n",
    "\n",
    "side_project_sample = side_project_temp.groupby(by=['1_resolve_time','title','1_verifier'], as_index=False).agg({'Diff case':'count'}).rename(columns={'1_resolve_time':'Moderation time',\n",
    "                                                                                                                                                       'title':'Sampling Queue',\n",
    "                                                                                                                                                       '1_verifier':'Moderator name',\n",
    "                                                                                                                                                       'Diff case':'No. of Samples'})"
   ]
  },
  {
   "cell_type": "code",
   "execution_count": 109,
   "metadata": {},
   "outputs": [],
   "source": [
    "#Diff case - side project\n",
    "\n",
    "side_project_false = side_project_temp[side_project_temp['Diff case']==\"FALSE\"]\n",
    "side_project_false = side_project_false.groupby(by=['1_resolve_time','title','1_verifier'], as_index=False).agg({'Diff case':'count'}).rename(columns={'1_resolve_time':'Moderation time',\n",
    "                                                                                                                                                       'title':'Sampling Queue',\n",
    "                                                                                                                                                       '1_verifier':'Moderator name',\n",
    "                                                                                                                                                       'Diff case':'No. Diff cases'})"
   ]
  },
  {
   "cell_type": "code",
   "execution_count": 110,
   "metadata": {},
   "outputs": [
    {
     "data": {
      "text/html": [
       "<div>\n",
       "<style scoped>\n",
       "    .dataframe tbody tr th:only-of-type {\n",
       "        vertical-align: middle;\n",
       "    }\n",
       "\n",
       "    .dataframe tbody tr th {\n",
       "        vertical-align: top;\n",
       "    }\n",
       "\n",
       "    .dataframe thead th {\n",
       "        text-align: right;\n",
       "    }\n",
       "</style>\n",
       "<table border=\"1\" class=\"dataframe\">\n",
       "  <thead>\n",
       "    <tr style=\"text-align: right;\">\n",
       "      <th></th>\n",
       "      <th>Moderation time</th>\n",
       "      <th>Sampling Queue</th>\n",
       "      <th>Moderator name</th>\n",
       "      <th>No. Diff cases</th>\n",
       "    </tr>\n",
       "  </thead>\n",
       "  <tbody>\n",
       "  </tbody>\n",
       "</table>\n",
       "</div>"
      ],
      "text/plain": [
       "Empty DataFrame\n",
       "Columns: [Moderation time, Sampling Queue, Moderator name, No. Diff cases]\n",
       "Index: []"
      ]
     },
     "execution_count": 110,
     "metadata": {},
     "output_type": "execute_result"
    }
   ],
   "source": [
    "side_project_false"
   ]
  },
  {
   "cell_type": "code",
   "execution_count": 111,
   "metadata": {},
   "outputs": [],
   "source": [
    "#Daily report - side project\n",
    "daily_side_performance = pd.merge(side_project_sample,side_project_false,how='left',left_on=['Moderation time','Sampling Queue','Moderator name'],right_on=['Moderation time','Sampling Queue','Moderator name']).fillna(0)"
   ]
  },
  {
   "cell_type": "code",
   "execution_count": 112,
   "metadata": {},
   "outputs": [],
   "source": [
    "dr_side_groupqueue = pd.merge(daily_side_performance,queue_list,how='left',left_on=['Sampling Queue'],right_on=['QA QUEUE NAME'])"
   ]
  },
  {
   "cell_type": "code",
   "execution_count": 113,
   "metadata": {},
   "outputs": [
    {
     "data": {
      "text/html": [
       "<div>\n",
       "<style scoped>\n",
       "    .dataframe tbody tr th:only-of-type {\n",
       "        vertical-align: middle;\n",
       "    }\n",
       "\n",
       "    .dataframe tbody tr th {\n",
       "        vertical-align: top;\n",
       "    }\n",
       "\n",
       "    .dataframe thead th {\n",
       "        text-align: right;\n",
       "    }\n",
       "</style>\n",
       "<table border=\"1\" class=\"dataframe\">\n",
       "  <thead>\n",
       "    <tr style=\"text-align: right;\">\n",
       "      <th></th>\n",
       "      <th>Moderation time</th>\n",
       "      <th>MOD QUEUE NAME</th>\n",
       "      <th>No. of Samples</th>\n",
       "      <th>No. Diff cases</th>\n",
       "      <th>%Accr</th>\n",
       "    </tr>\n",
       "  </thead>\n",
       "  <tbody>\n",
       "    <tr>\n",
       "      <th>0</th>\n",
       "      <td>2023-08-12</td>\n",
       "      <td>[CB][VN]-Shoptab Product Image Dedicated</td>\n",
       "      <td>57</td>\n",
       "      <td>0.0</td>\n",
       "      <td>1.0</td>\n",
       "    </tr>\n",
       "    <tr>\n",
       "      <th>1</th>\n",
       "      <td>2023-08-12</td>\n",
       "      <td>[VN] Shoptab Content cover image</td>\n",
       "      <td>122</td>\n",
       "      <td>0.0</td>\n",
       "      <td>1.0</td>\n",
       "    </tr>\n",
       "  </tbody>\n",
       "</table>\n",
       "</div>"
      ],
      "text/plain": [
       "  Moderation time                            MOD QUEUE NAME  No. of Samples  \\\n",
       "0      2023-08-12  [CB][VN]-Shoptab Product Image Dedicated              57   \n",
       "1      2023-08-12          [VN] Shoptab Content cover image             122   \n",
       "\n",
       "   No. Diff cases  %Accr  \n",
       "0             0.0    1.0  \n",
       "1             0.0    1.0  "
      ]
     },
     "execution_count": 113,
     "metadata": {},
     "output_type": "execute_result"
    }
   ],
   "source": [
    "#Daily report - side project group queue\n",
    "dr_side_groupqueue = pd.merge(daily_side_performance,queue_list,how='left',left_on=['Sampling Queue'],right_on=['QA QUEUE NAME'])\n",
    "dr_side_groupqueue = dr_side_groupqueue[['Moderation time','MOD QUEUE NAME','No. of Samples','No. Diff cases']]\n",
    "dr_side_groupqueue = dr_side_groupqueue.groupby(['Moderation time','MOD QUEUE NAME'],as_index=False).agg({'No. of Samples':'sum','No. Diff cases':'sum'})\n",
    "dr_side_groupqueue['%Accr'] = round(1-(dr_side_groupqueue['No. Diff cases'] / dr_side_groupqueue['No. of Samples']),4)\n",
    "dr_side_groupqueue"
   ]
  },
  {
   "cell_type": "code",
   "execution_count": 114,
   "metadata": {},
   "outputs": [
    {
     "data": {
      "text/plain": [
       "['D:/Code/Joblib_Temp/side project temp.pkl']"
      ]
     },
     "execution_count": 114,
     "metadata": {},
     "output_type": "execute_result"
    }
   ],
   "source": [
    "all_sheets_sideproject = {'Diff_case_sideproject':side_project_diff_case,\n",
    "                        'Daily_Performance_sideproject':daily_side_performance,\n",
    "                        'Sample_size_sideproject':side_project_sample,\n",
    "                        'False_case_sideproject':side_project_false,\n",
    "                        'DR_group_queue_sideproject': dr_side_groupqueue}\n",
    "\n",
    "joblib.dump(all_sheets_sideproject,'D:/Code/Joblib_Temp/side project temp.pkl')"
   ]
  },
  {
   "cell_type": "code",
   "execution_count": 115,
   "metadata": {},
   "outputs": [],
   "source": [
    "Regular_writer = pd.ExcelWriter('C:/Users/v6210227/Desktop/side project.xlsx', engine='xlsxwriter')\n",
    "\n",
    "for sheet_name in all_sheets_sideproject.keys():\n",
    "    all_sheets_sideproject[sheet_name].to_excel(excel_writer=Regular_writer, sheet_name=sheet_name)\n",
    "   \n",
    "Regular_writer.close()"
   ]
  },
  {
   "cell_type": "code",
   "execution_count": 116,
   "metadata": {},
   "outputs": [],
   "source": [
    "#Code test"
   ]
  }
 ],
 "metadata": {
  "kernelspec": {
   "display_name": "Python 3",
   "language": "python",
   "name": "python3"
  },
  "language_info": {
   "codemirror_mode": {
    "name": "ipython",
    "version": 3
   },
   "file_extension": ".py",
   "mimetype": "text/x-python",
   "name": "python",
   "nbconvert_exporter": "python",
   "pygments_lexer": "ipython3",
   "version": "3.11.4"
  },
  "orig_nbformat": 4
 },
 "nbformat": 4,
 "nbformat_minor": 2
}
