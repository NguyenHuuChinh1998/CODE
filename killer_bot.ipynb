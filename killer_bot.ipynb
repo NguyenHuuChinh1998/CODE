{
 "cells": [
  {
   "cell_type": "code",
   "execution_count": 1,
   "metadata": {},
   "outputs": [
    {
     "name": "stdout",
     "output_type": "stream",
     "text": [
      "Killing process 43940 - OpenConsole.exe\n",
      "Killing process 40740 - chromedriver.exe\n",
      "Killing Chrome process 16516 with profile C:/temp/new_chrome_profile\n",
      "Killing Chrome process 23992 with profile C:/temp/new_chrome_profile\n",
      "Killing Chrome process 39136 with profile C:/temp/new_chrome_profile\n",
      "Killing Chrome process 44764 with profile C:/temp/new_chrome_profile\n",
      "Killing Chrome process 45012 with profile C:/temp/new_chrome_profile\n",
      "Killing Chrome process 45752 with profile C:/temp/new_chrome_profile\n"
     ]
    }
   ],
   "source": [
    "import psutil\n",
    "\n",
    "def kill_process_openconsole(process_name):\n",
    "    for proc in psutil.process_iter(['name']):\n",
    "        if proc.info['name'] == process_name:\n",
    "            print(f\"Killing process {proc.pid} - {process_name}\")\n",
    "            proc.kill()\n",
    "\n",
    "\n",
    "def kill_process_chromedriver(name):\n",
    "    for proc in psutil.process_iter(['pid', 'name', 'cmdline']):\n",
    "        try:\n",
    "            if proc.info['name'] and name.lower() in proc.info['name'].lower():\n",
    "                print(f\"Killing process {proc.info['pid']} - {proc.info['name']}\")\n",
    "                proc.kill()\n",
    "        except (psutil.NoSuchProcess, psutil.AccessDenied):\n",
    "            pass\n",
    "\n",
    "def kill_chrome_with_profile(profile_dir):\n",
    "    for proc in psutil.process_iter(['pid', 'name', 'cmdline']):\n",
    "        try:\n",
    "            if proc.info['name'] and 'chrome.exe' in proc.info['name'].lower():\n",
    "                if any(profile_dir in arg for arg in proc.info['cmdline']):\n",
    "                    print(f\"Killing Chrome process {proc.info['pid']} with profile {profile_dir}\")\n",
    "                    proc.kill()\n",
    "        except (psutil.NoSuchProcess, psutil.AccessDenied):\n",
    "            pass\n",
    "\n",
    "kill_process_openconsole(\"OpenConsole.exe\")\n",
    "kill_process_chromedriver(\"chromedriver.exe\")\n",
    "kill_chrome_with_profile(\"C:/temp/new_chrome_profile\")\n"
   ]
  }
 ],
 "metadata": {
  "kernelspec": {
   "display_name": "base",
   "language": "python",
   "name": "python3"
  },
  "language_info": {
   "codemirror_mode": {
    "name": "ipython",
    "version": 3
   },
   "file_extension": ".py",
   "mimetype": "text/x-python",
   "name": "python",
   "nbconvert_exporter": "python",
   "pygments_lexer": "ipython3",
   "version": "3.12.7"
  }
 },
 "nbformat": 4,
 "nbformat_minor": 2
}
