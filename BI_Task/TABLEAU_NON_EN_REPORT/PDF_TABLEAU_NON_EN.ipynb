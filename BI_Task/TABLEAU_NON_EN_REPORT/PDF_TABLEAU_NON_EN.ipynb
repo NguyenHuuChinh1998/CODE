{
 "cells": [
  {
   "cell_type": "code",
   "execution_count": 33,
   "id": "3a52dd9a",
   "metadata": {},
   "outputs": [
    {
     "name": "stderr",
     "output_type": "stream",
     "text": [
      "CropBox missing from /Page, defaulting to MediaBox\n"
     ]
    },
    {
     "name": "stdout",
     "output_type": "stream",
     "text": [
      "Đang xử lý: Cairo_German.pdf\n"
     ]
    },
    {
     "name": "stderr",
     "output_type": "stream",
     "text": [
      "CropBox missing from /Page, defaulting to MediaBox\n",
      "CropBox missing from /Page, defaulting to MediaBox\n"
     ]
    },
    {
     "name": "stdout",
     "output_type": "stream",
     "text": [
      "✅ Xuất: Cairo_German.xlsx\n",
      "Đang xử lý: Dup_Cairo_German.pdf\n"
     ]
    },
    {
     "name": "stderr",
     "output_type": "stream",
     "text": [
      "CropBox missing from /Page, defaulting to MediaBox\n",
      "CropBox missing from /Page, defaulting to MediaBox\n"
     ]
    },
    {
     "name": "stdout",
     "output_type": "stream",
     "text": [
      "✅ Xuất: Dup_Cairo_German.xlsx\n",
      "Đang xử lý: Dup_German.pdf\n"
     ]
    },
    {
     "name": "stderr",
     "output_type": "stream",
     "text": [
      "CropBox missing from /Page, defaulting to MediaBox\n",
      "CropBox missing from /Page, defaulting to MediaBox\n"
     ]
    },
    {
     "name": "stdout",
     "output_type": "stream",
     "text": [
      "✅ Xuất: Dup_German.xlsx\n",
      "Đang xử lý: Dup_Marrakesh_French.pdf\n"
     ]
    },
    {
     "name": "stderr",
     "output_type": "stream",
     "text": [
      "CropBox missing from /Page, defaulting to MediaBox\n",
      "CropBox missing from /Page, defaulting to MediaBox\n"
     ]
    },
    {
     "name": "stdout",
     "output_type": "stream",
     "text": [
      "✅ Xuất: Dup_Marrakesh_French.xlsx\n",
      "Đang xử lý: Dup_Marrakesh_German.pdf\n"
     ]
    },
    {
     "name": "stderr",
     "output_type": "stream",
     "text": [
      "CropBox missing from /Page, defaulting to MediaBox\n",
      "CropBox missing from /Page, defaulting to MediaBox\n"
     ]
    },
    {
     "name": "stdout",
     "output_type": "stream",
     "text": [
      "✅ Xuất: Dup_Marrakesh_German.xlsx\n",
      "Đang xử lý: Dup_Tirana_German.pdf\n"
     ]
    },
    {
     "name": "stderr",
     "output_type": "stream",
     "text": [
      "CropBox missing from /Page, defaulting to MediaBox\n",
      "CropBox missing from /Page, defaulting to MediaBox\n"
     ]
    },
    {
     "name": "stdout",
     "output_type": "stream",
     "text": [
      "✅ Xuất: Dup_Tirana_German.xlsx\n",
      "Đang xử lý: Dup_Tirana_Greek.pdf\n"
     ]
    },
    {
     "name": "stderr",
     "output_type": "stream",
     "text": [
      "CropBox missing from /Page, defaulting to MediaBox\n",
      "CropBox missing from /Page, defaulting to MediaBox\n"
     ]
    },
    {
     "name": "stdout",
     "output_type": "stream",
     "text": [
      "✅ Xuất: Dup_Tirana_Greek.xlsx\n",
      "Đang xử lý: Dup_Tirana_Italian.pdf\n"
     ]
    },
    {
     "name": "stderr",
     "output_type": "stream",
     "text": [
      "CropBox missing from /Page, defaulting to MediaBox\n",
      "CropBox missing from /Page, defaulting to MediaBox\n"
     ]
    },
    {
     "name": "stdout",
     "output_type": "stream",
     "text": [
      "✅ Xuất: Dup_Tirana_Italian.xlsx\n",
      "Đang xử lý: Dup_Tirana_Turkish.pdf\n"
     ]
    },
    {
     "name": "stderr",
     "output_type": "stream",
     "text": [
      "CropBox missing from /Page, defaulting to MediaBox\n",
      "CropBox missing from /Page, defaulting to MediaBox\n"
     ]
    },
    {
     "name": "stdout",
     "output_type": "stream",
     "text": [
      "✅ Xuất: Dup_Tirana_Turkish.xlsx\n",
      "Đang xử lý: French_Overall.pdf\n"
     ]
    },
    {
     "name": "stderr",
     "output_type": "stream",
     "text": [
      "CropBox missing from /Page, defaulting to MediaBox\n",
      "CropBox missing from /Page, defaulting to MediaBox\n"
     ]
    },
    {
     "name": "stdout",
     "output_type": "stream",
     "text": [
      "✅ Xuất: French_Overall.xlsx\n",
      "Đang xử lý: German_Overall.pdf\n"
     ]
    },
    {
     "name": "stderr",
     "output_type": "stream",
     "text": [
      "CropBox missing from /Page, defaulting to MediaBox\n",
      "CropBox missing from /Page, defaulting to MediaBox\n"
     ]
    },
    {
     "name": "stdout",
     "output_type": "stream",
     "text": [
      "✅ Xuất: German_Overall.xlsx\n",
      "Đang xử lý: Greek_Overall.pdf\n"
     ]
    },
    {
     "name": "stderr",
     "output_type": "stream",
     "text": [
      "CropBox missing from /Page, defaulting to MediaBox\n",
      "CropBox missing from /Page, defaulting to MediaBox\n"
     ]
    },
    {
     "name": "stdout",
     "output_type": "stream",
     "text": [
      "✅ Xuất: Greek_Overall.xlsx\n",
      "Đang xử lý: Italian_Overall.pdf\n"
     ]
    },
    {
     "name": "stderr",
     "output_type": "stream",
     "text": [
      "CropBox missing from /Page, defaulting to MediaBox\n",
      "CropBox missing from /Page, defaulting to MediaBox\n"
     ]
    },
    {
     "name": "stdout",
     "output_type": "stream",
     "text": [
      "✅ Xuất: Italian_Overall.xlsx\n",
      "Đang xử lý: Marrakesh_German.pdf\n"
     ]
    },
    {
     "name": "stderr",
     "output_type": "stream",
     "text": [
      "CropBox missing from /Page, defaulting to MediaBox\n",
      "CropBox missing from /Page, defaulting to MediaBox\n"
     ]
    },
    {
     "name": "stdout",
     "output_type": "stream",
     "text": [
      "✅ Xuất: Marrakesh_German.xlsx\n",
      "Đang xử lý: Tenure_German.pdf\n"
     ]
    },
    {
     "name": "stderr",
     "output_type": "stream",
     "text": [
      "CropBox missing from /Page, defaulting to MediaBox\n",
      "CropBox missing from /Page, defaulting to MediaBox\n"
     ]
    },
    {
     "name": "stdout",
     "output_type": "stream",
     "text": [
      "✅ Xuất: Tenure_German.xlsx\n",
      "Đang xử lý: Tenure_Greek.pdf\n"
     ]
    },
    {
     "name": "stderr",
     "output_type": "stream",
     "text": [
      "CropBox missing from /Page, defaulting to MediaBox\n",
      "CropBox missing from /Page, defaulting to MediaBox\n"
     ]
    },
    {
     "name": "stdout",
     "output_type": "stream",
     "text": [
      "✅ Xuất: Tenure_Greek.xlsx\n",
      "Đang xử lý: Tenure_Italian.pdf\n"
     ]
    },
    {
     "name": "stderr",
     "output_type": "stream",
     "text": [
      "CropBox missing from /Page, defaulting to MediaBox\n",
      "CropBox missing from /Page, defaulting to MediaBox\n"
     ]
    },
    {
     "name": "stdout",
     "output_type": "stream",
     "text": [
      "✅ Xuất: Tenure_Italian.xlsx\n",
      "Đang xử lý: Tenure_Turkish.pdf\n"
     ]
    },
    {
     "name": "stderr",
     "output_type": "stream",
     "text": [
      "CropBox missing from /Page, defaulting to MediaBox\n",
      "CropBox missing from /Page, defaulting to MediaBox\n"
     ]
    },
    {
     "name": "stdout",
     "output_type": "stream",
     "text": [
      "✅ Xuất: Tenure_Turkish.xlsx\n",
      "Đang xử lý: Tirana_German.pdf\n"
     ]
    },
    {
     "name": "stderr",
     "output_type": "stream",
     "text": [
      "CropBox missing from /Page, defaulting to MediaBox\n",
      "CropBox missing from /Page, defaulting to MediaBox\n"
     ]
    },
    {
     "name": "stdout",
     "output_type": "stream",
     "text": [
      "✅ Xuất: Tirana_German.xlsx\n",
      "Đang xử lý: Turkish_Overall.pdf\n"
     ]
    },
    {
     "name": "stderr",
     "output_type": "stream",
     "text": [
      "CropBox missing from /Page, defaulting to MediaBox\n",
      "CropBox missing from /Page, defaulting to MediaBox\n"
     ]
    },
    {
     "name": "stdout",
     "output_type": "stream",
     "text": [
      "✅ Xuất: Turkish_Overall.xlsx\n",
      "Đang xử lý: Untenure_German.pdf\n"
     ]
    },
    {
     "name": "stderr",
     "output_type": "stream",
     "text": [
      "CropBox missing from /Page, defaulting to MediaBox\n",
      "CropBox missing from /Page, defaulting to MediaBox\n"
     ]
    },
    {
     "name": "stdout",
     "output_type": "stream",
     "text": [
      "✅ Xuất: Untenure_German.xlsx\n",
      "Đang xử lý: Untenure_Greek.pdf\n"
     ]
    },
    {
     "name": "stderr",
     "output_type": "stream",
     "text": [
      "CropBox missing from /Page, defaulting to MediaBox\n",
      "CropBox missing from /Page, defaulting to MediaBox\n"
     ]
    },
    {
     "name": "stdout",
     "output_type": "stream",
     "text": [
      "✅ Xuất: Untenure_Greek.xlsx\n",
      "Đang xử lý: Untenure_Italian.pdf\n"
     ]
    },
    {
     "name": "stderr",
     "output_type": "stream",
     "text": [
      "CropBox missing from /Page, defaulting to MediaBox\n",
      "CropBox missing from /Page, defaulting to MediaBox\n"
     ]
    },
    {
     "name": "stdout",
     "output_type": "stream",
     "text": [
      "✅ Xuất: Untenure_Italian.xlsx\n",
      "Đang xử lý: Untenure_Turkish.pdf\n"
     ]
    },
    {
     "name": "stderr",
     "output_type": "stream",
     "text": [
      "CropBox missing from /Page, defaulting to MediaBox\n"
     ]
    },
    {
     "name": "stdout",
     "output_type": "stream",
     "text": [
      "✅ Xuất: Untenure_Turkish.xlsx\n",
      "Done!\n"
     ]
    }
   ],
   "source": [
    "import pdfplumber\n",
    "import pandas as pd\n",
    "import os\n",
    "from openpyxl import load_workbook\n",
    "import re\n",
    "\n",
    "KPI_list = [\n",
    "    \"Distinct Cases\",\n",
    "    \"Case Closure SLA\",\n",
    "    \"Case Working SLA %\",\n",
    "    \"Overall Performance to AHT Target\",\n",
    "    \"Case AHT (mins)\",\n",
    "    \"Avg. Time to Case Closure (days)\",\n",
    "    \"Issue Resolution Score\",\n",
    "    \"Agent Effort Score\",\n",
    "    \"Expedia Group Effort Score\",\n",
    "    \"Misrouted Cases\",\n",
    "    \"THT due to Misroutes\",\n",
    "    \"AHT due to Misroutes\",\n",
    "    \"Flow Completion %\",\n",
    "    \"Co-Browse Usage %\",\n",
    "    \"AI Generated Summary Used\"\n",
    "]\n",
    "\n",
    "header_dates = [\"19 May\", \"26 May\", \"02 Jun\",\"09 Jun\"]\n",
    "\n",
    "pdf_folder = r\"C:\\Users\\ADMIN\\Concentrix Corporation\\WFM-Expedia-HCM - Branding files\\BI_Task\\TABLEAU_NON_EN_REPORT\\PDF_TABLEAU_NON_EN\"\n",
    "output_folder = r\"C:\\Users\\ADMIN\\Concentrix Corporation\\WFM-Expedia-HCM - Branding files\\BI_Task\\TABLEAU_NON_EN_REPORT\\EXCEL_TABLEAU_NON_EN\"\n",
    "\n",
    "for fname in os.listdir(pdf_folder):\n",
    "    if fname.lower().endswith(\".pdf\"):\n",
    "        pdf_path = os.path.join(pdf_folder, fname)\n",
    "        print(f\"Đang xử lý: {fname}\")\n",
    "\n",
    "        with pdfplumber.open(pdf_path) as pdf:\n",
    "            page = pdf.pages[0]\n",
    "            tables = page.extract_tables()\n",
    "\n",
    "            if tables and len(tables) > 0:\n",
    "                main_table = max(tables, key=len)\n",
    "                df = pd.DataFrame(main_table)\n",
    "                header_row = None\n",
    "                for idx, row in df.iterrows():\n",
    "                    joined = ' '.join([str(cell) for cell in row])\n",
    "                    if \"Grand Total\" in joined and any(date in joined for date in header_dates):\n",
    "                        header_row = idx\n",
    "                        break\n",
    "                if header_row is not None:\n",
    "                    new_header = df.iloc[header_row].fillna('').tolist()\n",
    "                    df_result = df.iloc[header_row+1:].reset_index(drop=True)\n",
    "                    df_result.columns = new_header\n",
    "                    df_result = df_result.dropna(axis=1, how='all')\n",
    "                    df_result = df_result.dropna(axis=0, how='all')\n",
    "                    df_result = df_result[df_result[df_result.columns[0]].isin(KPI_list)]\n",
    "                    df_result[df_result.columns[0]] = pd.Categorical(\n",
    "                        df_result[df_result.columns[0]], categories=KPI_list, ordered=True)\n",
    "                    df_result = df_result.sort_values(by=df_result.columns[0]).reset_index(drop=True)\n",
    "                    out_name = fname.replace(\".pdf\", \".xlsx\")\n",
    "                    out_path = os.path.join(output_folder, out_name)\n",
    "                    df_result.to_excel(out_path, index=False)\n",
    "                    print(f\"✅ Xuất: {out_name}\")\n",
    "                else:\n",
    "                    print(\"❌ Không tìm thấy dòng tiêu đề bảng KPI!\")\n",
    "            else:\n",
    "                print(\"⚠️ Không nhận diện được bảng!\")\n",
    "\n",
    "print(\"Done!\")\n"
   ]
  },
  {
   "cell_type": "code",
   "execution_count": 34,
   "id": "8bbcce57",
   "metadata": {},
   "outputs": [],
   "source": [
    "for filename in os.listdir(output_folder):\n",
    "    if filename.endswith(\".xlsx\"):\n",
    "        file_path = os.path.join(output_folder, filename)\n",
    "        wb = load_workbook(file_path)\n",
    "        changed = False\n",
    "        for ws in wb.worksheets:\n",
    "            for row in ws.iter_rows():\n",
    "                for idx, cell in enumerate(row):\n",
    "                    value = cell.value\n",
    "                    if idx == 0:\n",
    "                        continue\n",
    "                    if isinstance(value, str) and '\\n' in value:\n",
    "                        parts = value.split('\\n', 1)\n",
    "                        number = parts[1].strip()\n",
    "                        if number.replace(',', '').isdigit():\n",
    "                            cell.value = number\n",
    "                            changed = True\n",
    "            col_names = [\"All Metrics\"] + header_dates + [\"Grand Total\"]\n",
    "            ws.insert_rows(1)\n",
    "            for col_idx, col_name in enumerate(col_names, 1):\n",
    "                ws.cell(row=1, column=col_idx).value = col_name\n",
    "            changed = True\n",
    "\n",
    "        if changed:\n",
    "            wb.save(file_path)"
   ]
  },
  {
   "cell_type": "code",
   "execution_count": 35,
   "id": "81e8059a",
   "metadata": {},
   "outputs": [
    {
     "name": "stdout",
     "output_type": "stream",
     "text": [
      "✅ Đã tạo file tổng: C:\\Users\\ADMIN\\Concentrix Corporation\\WFM-Expedia-HCM - Branding files\\BI_Task\\TABLEAU_NON_EN_REPORT\\EXCEL_TABLEAU_NON_EN\\summary_all_reports.xlsx\n"
     ]
    }
   ],
   "source": [
    "summary = \"summary_all_reports.xlsx\"\n",
    "all_dfs = []\n",
    "\n",
    "# Mapping đổi tên dòng\n",
    "rename_map = {\n",
    "    \"Agent Effort Score\": \"AES\",\n",
    "    \"Issue Resolution Score\": \"IR\",\n",
    "    \"Overall Performance to AHT\": \"AHT\",\n",
    "    \"Case Closure SLA\": \"SLA\",\n",
    "    \"Distinct Cases\": \"Closed Cases\"\n",
    "}\n",
    "\n",
    "# Định nghĩa các dòng dạng phần trăm và dạng số\n",
    "percent_rows = [\n",
    "    \"Case Closure SLA\", \"Overall Performance to AHT\",\n",
    "    \"Issue Resolution Score\", \"Agent Effort Score\"\n",
    "]\n",
    "\n",
    "number_rows = [\n",
    "    \"Distinct Cases\"\n",
    "]\n",
    "\n",
    "# Hàm trích số cuối trong chuỗi\n",
    "def extract_number_only(val):\n",
    "    if pd.isnull(val):\n",
    "        return None\n",
    "    numbers = re.findall(r\"[-+]?\\d*\\.\\d+|\\d+\", str(val))\n",
    "    return float(numbers[-1]) if numbers else None\n",
    "\n",
    "# Xử lý từng file\n",
    "for fname in os.listdir(output_folder):\n",
    "    if fname.endswith('.xlsx') and fname != summary:\n",
    "        file_path = os.path.join(output_folder, fname)\n",
    "        try:\n",
    "            df = pd.read_excel(file_path)\n",
    "\n",
    "            # Giữ lại các dòng cần thiết\n",
    "            mask = df.iloc[:, 0].isin(rename_map.keys())\n",
    "            df_cases = df[mask].copy()\n",
    "\n",
    "            # Đổi tên dòng\n",
    "            df_cases.iloc[:, 0] = df_cases.iloc[:, 0].replace(rename_map)\n",
    "\n",
    "            # Xử lý giá trị\n",
    "            for idx, row in df_cases.iterrows():\n",
    "                original_name = list(rename_map.keys())[list(rename_map.values()).index(row.iloc[0])] \\\n",
    "                    if row.iloc[0] in rename_map.values() else row.iloc[0]\n",
    "\n",
    "                for col in df.columns[1:]:\n",
    "                    val = extract_number_only(row[col])\n",
    "                    if original_name in percent_rows:\n",
    "                        df_cases.at[idx, col] = val / 100 if val is not None else None\n",
    "                    else:\n",
    "                        df_cases.at[idx, col] = val\n",
    "\n",
    "            # Thêm tên report\n",
    "            df_cases['Report'] = os.path.splitext(fname)[0]\n",
    "\n",
    "            all_dfs.append(df_cases)\n",
    "\n",
    "        except Exception as e:\n",
    "            print(f\"⚠️ Lỗi đọc {fname}: {e}\")\n",
    "\n",
    "# Kết hợp và lưu file\n",
    "if all_dfs:\n",
    "    df_all = pd.concat(all_dfs, ignore_index=True)\n",
    "\n",
    "    # Chuyển cột giữa thành số nếu có thể (trừ cột đầu + cuối)\n",
    "    cols_to_convert = df_all.columns[1:-1]\n",
    "    df_all[cols_to_convert] = df_all[cols_to_convert].apply(pd.to_numeric, errors='coerce')\n",
    "\n",
    "    out_path = os.path.join(output_folder, summary)\n",
    "    df_all.to_excel(out_path, index=False)\n",
    "\n",
    "    print(f\"✅ Đã tạo file tổng: {out_path}\")\n",
    "else:\n",
    "    print(\"❌ Không tìm thấy file phù hợp!\")"
   ]
  },
  {
   "cell_type": "code",
   "execution_count": 36,
   "id": "9f171257",
   "metadata": {},
   "outputs": [
    {
     "data": {
      "text/html": [
       "<div>\n",
       "<style scoped>\n",
       "    .dataframe tbody tr th:only-of-type {\n",
       "        vertical-align: middle;\n",
       "    }\n",
       "\n",
       "    .dataframe tbody tr th {\n",
       "        vertical-align: top;\n",
       "    }\n",
       "\n",
       "    .dataframe thead th {\n",
       "        text-align: right;\n",
       "    }\n",
       "</style>\n",
       "<table border=\"1\" class=\"dataframe\">\n",
       "  <thead>\n",
       "    <tr style=\"text-align: right;\">\n",
       "      <th></th>\n",
       "      <th>All Metrics</th>\n",
       "      <th>19 May</th>\n",
       "      <th>26 May</th>\n",
       "      <th>02 Jun</th>\n",
       "      <th>09 Jun</th>\n",
       "      <th>Grand Total</th>\n",
       "      <th>Report</th>\n",
       "    </tr>\n",
       "  </thead>\n",
       "  <tbody>\n",
       "    <tr>\n",
       "      <th>0</th>\n",
       "      <td>Closed Cases</td>\n",
       "      <td>120.00</td>\n",
       "      <td>85.00</td>\n",
       "      <td>78.00</td>\n",
       "      <td>127.00</td>\n",
       "      <td>410.00</td>\n",
       "      <td>Cairo_German</td>\n",
       "    </tr>\n",
       "    <tr>\n",
       "      <th>1</th>\n",
       "      <td>SLA</td>\n",
       "      <td>0.44</td>\n",
       "      <td>0.74</td>\n",
       "      <td>0.78</td>\n",
       "      <td>0.71</td>\n",
       "      <td>0.66</td>\n",
       "      <td>Cairo_German</td>\n",
       "    </tr>\n",
       "    <tr>\n",
       "      <th>2</th>\n",
       "      <td>IR</td>\n",
       "      <td>0.75</td>\n",
       "      <td>0.67</td>\n",
       "      <td>NaN</td>\n",
       "      <td>NaN</td>\n",
       "      <td>0.71</td>\n",
       "      <td>Cairo_German</td>\n",
       "    </tr>\n",
       "    <tr>\n",
       "      <th>3</th>\n",
       "      <td>AES</td>\n",
       "      <td>0.75</td>\n",
       "      <td>0.67</td>\n",
       "      <td>NaN</td>\n",
       "      <td>NaN</td>\n",
       "      <td>0.71</td>\n",
       "      <td>Cairo_German</td>\n",
       "    </tr>\n",
       "    <tr>\n",
       "      <th>4</th>\n",
       "      <td>Closed Cases</td>\n",
       "      <td>11.00</td>\n",
       "      <td>10.00</td>\n",
       "      <td>6.00</td>\n",
       "      <td>4.00</td>\n",
       "      <td>31.00</td>\n",
       "      <td>Dup_Cairo_German</td>\n",
       "    </tr>\n",
       "    <tr>\n",
       "      <th>5</th>\n",
       "      <td>SLA</td>\n",
       "      <td>NaN</td>\n",
       "      <td>1.00</td>\n",
       "      <td>1.00</td>\n",
       "      <td>NaN</td>\n",
       "      <td>1.00</td>\n",
       "      <td>Dup_Cairo_German</td>\n",
       "    </tr>\n",
       "    <tr>\n",
       "      <th>6</th>\n",
       "      <td>IR</td>\n",
       "      <td>NaN</td>\n",
       "      <td>NaN</td>\n",
       "      <td>NaN</td>\n",
       "      <td>NaN</td>\n",
       "      <td>NaN</td>\n",
       "      <td>Dup_Cairo_German</td>\n",
       "    </tr>\n",
       "    <tr>\n",
       "      <th>7</th>\n",
       "      <td>AES</td>\n",
       "      <td>NaN</td>\n",
       "      <td>NaN</td>\n",
       "      <td>NaN</td>\n",
       "      <td>NaN</td>\n",
       "      <td>NaN</td>\n",
       "      <td>Dup_Cairo_German</td>\n",
       "    </tr>\n",
       "    <tr>\n",
       "      <th>8</th>\n",
       "      <td>Closed Cases</td>\n",
       "      <td>16.00</td>\n",
       "      <td>15.00</td>\n",
       "      <td>11.00</td>\n",
       "      <td>12.00</td>\n",
       "      <td>54.00</td>\n",
       "      <td>Dup_German</td>\n",
       "    </tr>\n",
       "    <tr>\n",
       "      <th>9</th>\n",
       "      <td>SLA</td>\n",
       "      <td>NaN</td>\n",
       "      <td>1.00</td>\n",
       "      <td>1.00</td>\n",
       "      <td>NaN</td>\n",
       "      <td>1.00</td>\n",
       "      <td>Dup_German</td>\n",
       "    </tr>\n",
       "    <tr>\n",
       "      <th>10</th>\n",
       "      <td>IR</td>\n",
       "      <td>NaN</td>\n",
       "      <td>NaN</td>\n",
       "      <td>NaN</td>\n",
       "      <td>NaN</td>\n",
       "      <td>NaN</td>\n",
       "      <td>Dup_German</td>\n",
       "    </tr>\n",
       "    <tr>\n",
       "      <th>11</th>\n",
       "      <td>AES</td>\n",
       "      <td>NaN</td>\n",
       "      <td>NaN</td>\n",
       "      <td>NaN</td>\n",
       "      <td>NaN</td>\n",
       "      <td>NaN</td>\n",
       "      <td>Dup_German</td>\n",
       "    </tr>\n",
       "    <tr>\n",
       "      <th>12</th>\n",
       "      <td>Closed Cases</td>\n",
       "      <td>78.00</td>\n",
       "      <td>61.00</td>\n",
       "      <td>91.00</td>\n",
       "      <td>76.00</td>\n",
       "      <td>306.00</td>\n",
       "      <td>Dup_Marrakesh_French</td>\n",
       "    </tr>\n",
       "    <tr>\n",
       "      <th>13</th>\n",
       "      <td>SLA</td>\n",
       "      <td>0.64</td>\n",
       "      <td>0.20</td>\n",
       "      <td>0.46</td>\n",
       "      <td>0.55</td>\n",
       "      <td>0.47</td>\n",
       "      <td>Dup_Marrakesh_French</td>\n",
       "    </tr>\n",
       "    <tr>\n",
       "      <th>14</th>\n",
       "      <td>IR</td>\n",
       "      <td>NaN</td>\n",
       "      <td>NaN</td>\n",
       "      <td>NaN</td>\n",
       "      <td>NaN</td>\n",
       "      <td>NaN</td>\n",
       "      <td>Dup_Marrakesh_French</td>\n",
       "    </tr>\n",
       "  </tbody>\n",
       "</table>\n",
       "</div>"
      ],
      "text/plain": [
       "     All Metrics  19 May  26 May  02 Jun  09 Jun  Grand Total  \\\n",
       "0   Closed Cases  120.00   85.00   78.00  127.00       410.00   \n",
       "1            SLA    0.44    0.74    0.78    0.71         0.66   \n",
       "2             IR    0.75    0.67     NaN     NaN         0.71   \n",
       "3            AES    0.75    0.67     NaN     NaN         0.71   \n",
       "4   Closed Cases   11.00   10.00    6.00    4.00        31.00   \n",
       "5            SLA     NaN    1.00    1.00     NaN         1.00   \n",
       "6             IR     NaN     NaN     NaN     NaN          NaN   \n",
       "7            AES     NaN     NaN     NaN     NaN          NaN   \n",
       "8   Closed Cases   16.00   15.00   11.00   12.00        54.00   \n",
       "9            SLA     NaN    1.00    1.00     NaN         1.00   \n",
       "10            IR     NaN     NaN     NaN     NaN          NaN   \n",
       "11           AES     NaN     NaN     NaN     NaN          NaN   \n",
       "12  Closed Cases   78.00   61.00   91.00   76.00       306.00   \n",
       "13           SLA    0.64    0.20    0.46    0.55         0.47   \n",
       "14            IR     NaN     NaN     NaN     NaN          NaN   \n",
       "\n",
       "                  Report  \n",
       "0           Cairo_German  \n",
       "1           Cairo_German  \n",
       "2           Cairo_German  \n",
       "3           Cairo_German  \n",
       "4       Dup_Cairo_German  \n",
       "5       Dup_Cairo_German  \n",
       "6       Dup_Cairo_German  \n",
       "7       Dup_Cairo_German  \n",
       "8             Dup_German  \n",
       "9             Dup_German  \n",
       "10            Dup_German  \n",
       "11            Dup_German  \n",
       "12  Dup_Marrakesh_French  \n",
       "13  Dup_Marrakesh_French  \n",
       "14  Dup_Marrakesh_French  "
      ]
     },
     "execution_count": 36,
     "metadata": {},
     "output_type": "execute_result"
    }
   ],
   "source": [
    "df_all.head(15)"
   ]
  }
 ],
 "metadata": {
  "kernelspec": {
   "display_name": "Python 3",
   "language": "python",
   "name": "python3"
  },
  "language_info": {
   "codemirror_mode": {
    "name": "ipython",
    "version": 3
   },
   "file_extension": ".py",
   "mimetype": "text/x-python",
   "name": "python",
   "nbconvert_exporter": "python",
   "pygments_lexer": "ipython3",
   "version": "3.12.10"
  }
 },
 "nbformat": 4,
 "nbformat_minor": 5
}
